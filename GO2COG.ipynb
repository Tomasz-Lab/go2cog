{
 "cells": [
  {
   "cell_type": "code",
   "execution_count": 436,
   "id": "e97fd70c-b4ae-49f0-83c9-bfc582bfc03f",
   "metadata": {},
   "outputs": [],
   "source": [
    "import pandas as pd \n",
    "import numpy as np"
   ]
  },
  {
   "cell_type": "code",
   "execution_count": 436,
   "id": "b41a41bd",
   "metadata": {},
   "outputs": [],
   "source": [
    "df1 = pd.read_csv('{PATH/TO/YOUR/GO:TERMS/FILE}')"
   ]
  },
  {
   "cell_type": "code",
   "execution_count": null,
   "id": "d3da02fe-270f-45d4-9361-5fa0700f2ffe",
   "metadata": {},
   "outputs": [],
   "source": [
    "df2 = pd.read_csv('Predictions_all/V1_vs_V11/go2cog/go2cog_deepfri_USECLO.csv', sep=\",\")"
   ]
  },
  {
   "cell_type": "code",
   "execution_count": null,
   "id": "31284b82-50a4-4940-983a-5277dddf3af9",
   "metadata": {},
   "outputs": [],
   "source": [
    "go_cog_supercog = pd.merge (df, df2,\n",
    "        left_on=\"GO_term/EC_number\", right_on=\"GO term\", how=\"left\")"
   ]
  }
 ],
 "metadata": {
  "kernelspec": {
   "display_name": "Python 3 (ipykernel)",
   "language": "python",
   "name": "python3"
  },
  "language_info": {
   "codemirror_mode": {
    "name": "ipython",
    "version": 3
   },
   "file_extension": ".py",
   "mimetype": "text/x-python",
   "name": "python",
   "nbconvert_exporter": "python",
   "pygments_lexer": "ipython3",
   "version": "3.10.14"
  }
 },
 "nbformat": 4,
 "nbformat_minor": 5
}
